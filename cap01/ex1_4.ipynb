{
 "cells": [
  {
   "cell_type": "code",
   "execution_count": 2,
   "id": "1b419997-5cbb-4ad3-b0f2-194d831fe648",
   "metadata": {},
   "outputs": [
    {
     "name": "stdout",
     "output_type": "stream",
     "text": [
      "[61  2 74 55 62 61 90  0 16 88 77 97 20 31  8 62 29 41 81 40 63 25  1 14\n",
      "  5 79 21 64 51 83 94 67 30 58 22 94 49 50 78  7  6 85 47 80 84 46 93 61\n",
      " 73 68 83 40 51 52 48 77 55 14 21 29 96 98 14 26 94  2 27 54 41 72 60 20\n",
      " 69 51 41 65 31  8 37 59 84 44 46 65 82 59 27  8  0 92  8 79  0 21 77 80\n",
      " 53  9 99 33]\n"
     ]
    }
   ],
   "source": [
    "import numpy as np\n",
    "\n",
    "v = np.random.randint(0, 100, size=100)\n",
    "print(v)"
   ]
  },
  {
   "cell_type": "code",
   "execution_count": 3,
   "id": "8f845119-a538-44e2-8b77-92f60d81be90",
   "metadata": {},
   "outputs": [
    {
     "name": "stdout",
     "output_type": "stream",
     "text": [
      "4994\n"
     ]
    }
   ],
   "source": [
    "# a)\n",
    "soma = np.sum(v)\n",
    "print(soma)"
   ]
  },
  {
   "cell_type": "code",
   "execution_count": 4,
   "id": "69207ea2-53da-4a7f-a8f7-add591408ab0",
   "metadata": {},
   "outputs": [
    {
     "name": "stdout",
     "output_type": "stream",
     "text": [
      "99\n"
     ]
    }
   ],
   "source": [
    "# b)\n",
    "vmax = np.max(v)\n",
    "print(vmax)"
   ]
  },
  {
   "cell_type": "code",
   "execution_count": 6,
   "id": "fa47480a-2481-43f8-941a-2a467027052a",
   "metadata": {},
   "outputs": [
    {
     "name": "stdout",
     "output_type": "stream",
     "text": [
      "[33 99  9 53 80 77 21  0 79  8 92  0  8 27 59 82 65 46 44 84 59 37  8 31\n",
      " 65 41 51 69 20 60 72 41 54 27  2 94 26 14 98 96 29 21 14 55 77 48 52 51\n",
      " 40 83 68 73 61 93 46 84 80 47 85  6  7 78 50 49 94 22 58 30 67 94 83 51\n",
      " 64 21 79  5 14  1 25 63 40 81 41 29 62  8 31 20 97 77 88 16  0 90 61 62\n",
      " 55 74  2 61]\n"
     ]
    }
   ],
   "source": [
    "# c)\n",
    "invertido = v[::-1]\n",
    "print(invertido)"
   ]
  },
  {
   "cell_type": "code",
   "execution_count": 7,
   "id": "dc05a4b0-47d7-42a5-a9fb-0266c3e17899",
   "metadata": {},
   "outputs": [
    {
     "name": "stdout",
     "output_type": "stream",
     "text": [
      "61 aparece 3 vezes\n"
     ]
    }
   ],
   "source": [
    "# d)\n",
    "a = v[0]\n",
    "contador = 0\n",
    "for e in v:\n",
    "    if e == a:\n",
    "        contador += 1\n",
    "print(f\"{a} aparece {contador} vezes\")"
   ]
  }
 ],
 "metadata": {
  "kernelspec": {
   "display_name": "Python 3 (ipykernel)",
   "language": "python",
   "name": "python3"
  },
  "language_info": {
   "codemirror_mode": {
    "name": "ipython",
    "version": 3
   },
   "file_extension": ".py",
   "mimetype": "text/x-python",
   "name": "python",
   "nbconvert_exporter": "python",
   "pygments_lexer": "ipython3",
   "version": "3.13.2"
  }
 },
 "nbformat": 4,
 "nbformat_minor": 5
}
