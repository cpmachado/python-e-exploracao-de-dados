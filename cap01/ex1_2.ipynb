{
 "cells": [
  {
   "cell_type": "code",
   "execution_count": 9,
   "id": "6b6197e8-caae-4886-bdbd-3ef455db8300",
   "metadata": {},
   "outputs": [],
   "source": [
    "import numpy as np\n",
    "\n",
    "# começa em 1 e vai até n+1(10 + 1 = 11)\n",
    "v = np.arange(1, 11)"
   ]
  },
  {
   "cell_type": "code",
   "execution_count": 7,
   "id": "e29a2ad2-971f-4476-9aa5-365a2e3a2d6e",
   "metadata": {},
   "outputs": [
    {
     "name": "stdout",
     "output_type": "stream",
     "text": [
      "55\n"
     ]
    }
   ],
   "source": [
    "# a)\n",
    "soma = np.sum(v)\n",
    "print(soma)"
   ]
  },
  {
   "cell_type": "code",
   "execution_count": 8,
   "id": "525ac8c0-553b-44ed-b784-c500f3ea936f",
   "metadata": {},
   "outputs": [
    {
     "name": "stdout",
     "output_type": "stream",
     "text": [
      "5.5\n"
     ]
    }
   ],
   "source": [
    "# b)\n",
    "media = np.mean(v)\n",
    "print(media)"
   ]
  },
  {
   "cell_type": "code",
   "execution_count": 10,
   "id": "994bb97f-2a63-4b5f-9db7-d76617599d30",
   "metadata": {},
   "outputs": [
    {
     "name": "stdout",
     "output_type": "stream",
     "text": [
      "10\n"
     ]
    }
   ],
   "source": [
    "# c)\n",
    "vmax = np.max(v)\n",
    "print(vmax)"
   ]
  },
  {
   "cell_type": "code",
   "execution_count": 11,
   "id": "dc493b01-d637-4493-8fbd-f253b8587330",
   "metadata": {},
   "outputs": [
    {
     "name": "stdout",
     "output_type": "stream",
     "text": [
      "[ 1 -1  3 -1  5 -1  7 -1  9 -1]\n"
     ]
    }
   ],
   "source": [
    "# d)\n",
    "for i in range(1, len(v), 2):\n",
    "    v[i] = -1\n",
    "print(v)"
   ]
  }
 ],
 "metadata": {
  "kernelspec": {
   "display_name": "Python 3 (ipykernel)",
   "language": "python",
   "name": "python3"
  },
  "language_info": {
   "codemirror_mode": {
    "name": "ipython",
    "version": 3
   },
   "file_extension": ".py",
   "mimetype": "text/x-python",
   "name": "python",
   "nbconvert_exporter": "python",
   "pygments_lexer": "ipython3",
   "version": "3.13.2"
  }
 },
 "nbformat": 4,
 "nbformat_minor": 5
}
