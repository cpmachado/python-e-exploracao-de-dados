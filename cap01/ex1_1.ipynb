{
 "cells": [
  {
   "cell_type": "code",
   "execution_count": 7,
   "id": "009de1d7-cceb-480c-8d3d-1b4559744c75",
   "metadata": {},
   "outputs": [
    {
     "name": "stdout",
     "output_type": "stream",
     "text": [
      "  Nome  Idade  Salário\n",
      "0    C     30   1000.0\n",
      "1    R     34   1000.0\n",
      "2   MG      2   9000.0\n",
      "3   RF     35   3000.0\n"
     ]
    }
   ],
   "source": [
    "import pandas as pd\n",
    "import statistics as stat\n",
    "\n",
    "data = {\n",
    "    \"Nome\": [\"C\", \"R\", \"MG\", \"RF\"],\n",
    "    \"Idade\": [30, 34, 2, 35],\n",
    "    \"Salário\": [1e3, 1e3, 9e3, 3e3],\n",
    "}\n",
    "\n",
    "df = pd.DataFrame(data)\n",
    "print(df)"
   ]
  },
  {
   "cell_type": "code",
   "execution_count": 8,
   "id": "5b340a6c-c805-407e-b8fc-ed7f9caf0f8b",
   "metadata": {},
   "outputs": [
    {
     "name": "stdout",
     "output_type": "stream",
     "text": [
      "25.25\n"
     ]
    }
   ],
   "source": [
    "# a)\n",
    "media = stat.mean(df[\"Idade\"])\n",
    "print(media)"
   ]
  },
  {
   "cell_type": "code",
   "execution_count": 14,
   "id": "35690fb6-395f-4240-beec-de728dd77d92",
   "metadata": {},
   "outputs": [
    {
     "name": "stdout",
     "output_type": "stream",
     "text": [
      "  Nome  Idade  Salário\n",
      "2   MG      2   9000.0\n"
     ]
    }
   ],
   "source": [
    "# b)\n",
    "jovem = df[df[\"Idade\"] == df[\"Idade\"].min()]\n",
    "print(jovem)"
   ]
  },
  {
   "cell_type": "code",
   "execution_count": 16,
   "id": "39687b6b-628d-46e7-a8e9-383d244de32d",
   "metadata": {},
   "outputs": [
    {
     "name": "stdout",
     "output_type": "stream",
     "text": [
      "  Nome  Idade  Salário\n",
      "2   MG      2   9000.0\n",
      "3   RF     35   3000.0\n",
      "1    R     34   1000.0\n",
      "0    C     30   1000.0\n"
     ]
    }
   ],
   "source": [
    "# c)\n",
    "df = df.sort_values(\"Salário\", ascending=False)\n",
    "\n",
    "print(df)"
   ]
  },
  {
   "cell_type": "code",
   "execution_count": null,
   "id": "1cd9a71e-86d1-4e55-89d4-409539c79e7a",
   "metadata": {},
   "outputs": [],
   "source": []
  }
 ],
 "metadata": {
  "kernelspec": {
   "display_name": "Python 3 (ipykernel)",
   "language": "python",
   "name": "python3"
  },
  "language_info": {
   "codemirror_mode": {
    "name": "ipython",
    "version": 3
   },
   "file_extension": ".py",
   "mimetype": "text/x-python",
   "name": "python",
   "nbconvert_exporter": "python",
   "pygments_lexer": "ipython3",
   "version": "3.13.2"
  }
 },
 "nbformat": 4,
 "nbformat_minor": 5
}
