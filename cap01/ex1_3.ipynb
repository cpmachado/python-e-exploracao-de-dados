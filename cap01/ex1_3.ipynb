{
 "cells": [
  {
   "cell_type": "code",
   "execution_count": 1,
   "id": "7506c78c-ab07-44f5-b20a-eacada46afd0",
   "metadata": {},
   "outputs": [],
   "source": [
    "frutos = (\"banana\", \"pêra\", \"maçã\", \"abacaxi\")"
   ]
  },
  {
   "cell_type": "code",
   "execution_count": 2,
   "id": "fb8f437d-c5a7-429a-9975-e1d735dd23c0",
   "metadata": {},
   "outputs": [
    {
     "name": "stdout",
     "output_type": "stream",
     "text": [
      "('banana', 'pêra', 'maçã')\n"
     ]
    }
   ],
   "source": [
    "# a)\n",
    "print(frutos[:3])"
   ]
  },
  {
   "cell_type": "code",
   "execution_count": 3,
   "id": "123095e9-113f-4465-8c7a-d1ab05a03eac",
   "metadata": {},
   "outputs": [
    {
     "name": "stdout",
     "output_type": "stream",
     "text": [
      "True\n"
     ]
    }
   ],
   "source": [
    "# b) verificar banana\n",
    "print(\"banana\" in frutos)"
   ]
  },
  {
   "cell_type": "code",
   "execution_count": 4,
   "id": "46dd73ba-4194-44db-881d-743dd80c1a00",
   "metadata": {},
   "outputs": [
    {
     "name": "stdout",
     "output_type": "stream",
     "text": [
      "Existem 2 frutos com mais de 5 letras\n"
     ]
    }
   ],
   "source": [
    "# c)\n",
    "contador = 0\n",
    "for v in frutos:\n",
    "    if len(v) > 5:\n",
    "        contador += 1\n",
    "print(f\"Existem {contador} frutos com mais de 5 letras\")"
   ]
  },
  {
   "cell_type": "code",
   "execution_count": 6,
   "id": "7afce500-7b62-4199-9c6a-ccd97dabffd4",
   "metadata": {},
   "outputs": [
    {
     "name": "stdout",
     "output_type": "stream",
     "text": [
      "['abacaxi', 'banana', 'maçã', 'pêra']\n"
     ]
    }
   ],
   "source": [
    "# d)\n",
    "frutos_ordenados = sorted(frutos)\n",
    "print(frutos_ordenados)"
   ]
  }
 ],
 "metadata": {
  "kernelspec": {
   "display_name": "Python 3 (ipykernel)",
   "language": "python",
   "name": "python3"
  },
  "language_info": {
   "codemirror_mode": {
    "name": "ipython",
    "version": 3
   },
   "file_extension": ".py",
   "mimetype": "text/x-python",
   "name": "python",
   "nbconvert_exporter": "python",
   "pygments_lexer": "ipython3",
   "version": "3.13.2"
  }
 },
 "nbformat": 4,
 "nbformat_minor": 5
}
